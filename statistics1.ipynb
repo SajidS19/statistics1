{
 "cells": [
  {
   "cell_type": "markdown",
   "id": "bfa6fa71",
   "metadata": {},
   "source": [
    "1.What is Statistics?"
   ]
  },
  {
   "cell_type": "raw",
   "id": "be1a56e2",
   "metadata": {},
   "source": [
    "**statistics is collecting ,organising and analyzing the data"
   ]
  },
  {
   "cell_type": "raw",
   "id": "5323c948",
   "metadata": {},
   "source": [
    "2.Define the different types of statistics and give an example of when each type might be used."
   ]
  },
  {
   "cell_type": "raw",
   "id": "891ae824",
   "metadata": {},
   "source": [
    "*descrptive\n",
    "Ex:mean,med,mode\n",
    "*infuential\n",
    "Ex:z-test,t-test"
   ]
  },
  {
   "cell_type": "raw",
   "id": "05f7332d",
   "metadata": {},
   "source": [
    "3.What are the different types of data and how do they differ from each other? Provide an example of\n",
    "each type of data."
   ]
  },
  {
   "cell_type": "raw",
   "id": "76a1f94a",
   "metadata": {},
   "source": [
    "numerical\n",
    "*descrete\n",
    "*continuos\n",
    "categorical\n",
    "*nominal\n",
    "*ordinal"
   ]
  },
  {
   "cell_type": "raw",
   "id": "dbeea1c4",
   "metadata": {},
   "source": [
    "4. Categorise the following datasets with respect to quantitative and qualitative data types:\n",
    "(i) Grading in exam: A+, A, B+, B, C+, C, D, E\n",
    "    *ordinal\n",
    "(ii) Colour of mangoes: yellow, green, orange, red\n",
    "    *nominal\n",
    "(iii) Height data of a class: [178.9, 179, 179.5, 176, 177.2, 178.3, 175.8,...]\n",
    "    *continuos\n",
    "(iv) Number of mangoes exported by a farm: [500, 600, 478, 672, ...]\n",
    "    *descrete"
   ]
  },
  {
   "cell_type": "raw",
   "id": "41de30f8",
   "metadata": {},
   "source": [
    "5. Explain the concept of levels of measurement and give an example of a variable for each level."
   ]
  },
  {
   "cell_type": "raw",
   "id": "81524112",
   "metadata": {},
   "source": [
    "*nominal\n",
    "*ordinal\n",
    "*internal\n",
    "*ratio"
   ]
  },
  {
   "cell_type": "raw",
   "id": "18f09b89",
   "metadata": {},
   "source": [
    "7.How nominal data type is different from ordinal data type."
   ]
  },
  {
   "cell_type": "raw",
   "id": "028bba97",
   "metadata": {},
   "source": [
    "nomial is not based on rank , ordinal is based on rank"
   ]
  },
  {
   "cell_type": "raw",
   "id": "d05054d5",
   "metadata": {},
   "source": [
    "8.Which type of plot can be used to display data in terms of range?\n",
    "**internal"
   ]
  },
  {
   "cell_type": "raw",
   "id": "a05f0b63",
   "metadata": {},
   "source": [
    "9.Describe the difference between descriptive and inferential statistics. Give an example of each\n",
    "type of statistics and explain how they are used."
   ]
  },
  {
   "cell_type": "raw",
   "id": "3bf438a7",
   "metadata": {},
   "source": [
    "*decriptive:\n",
    "    oranising and summerazing the data\n",
    "    ex:mean,med,mode\n",
    "*infuential:\n",
    "    concludes measuring from population\n",
    "    ex:z-test,t-test"
   ]
  },
  {
   "cell_type": "raw",
   "id": "c2481cdd",
   "metadata": {},
   "source": [
    "10. What are some common measures of central tendency and variability used in statistics? Explain\n",
    "how each measure can be used to describe a dataset."
   ]
  },
  {
   "cell_type": "raw",
   "id": "305d7a59",
   "metadata": {},
   "source": [
    "mean:sum/no of obs\n",
    "med:middle most value in data\n",
    "mode:common element\n",
    "ex:x=1,4,3,1,1\n",
    "mean:10/5=4\n",
    "median:3\n",
    "mode:1"
   ]
  }
 ],
 "metadata": {
  "kernelspec": {
   "display_name": "Python 3 (ipykernel)",
   "language": "python",
   "name": "python3"
  },
  "language_info": {
   "codemirror_mode": {
    "name": "ipython",
    "version": 3
   },
   "file_extension": ".py",
   "mimetype": "text/x-python",
   "name": "python",
   "nbconvert_exporter": "python",
   "pygments_lexer": "ipython3",
   "version": "3.9.13"
  }
 },
 "nbformat": 4,
 "nbformat_minor": 5
}
